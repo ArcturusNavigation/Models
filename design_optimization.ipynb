{
 "cells": [
  {
   "cell_type": "markdown",
   "metadata": {},
   "source": [
    "# Nonlinear Constrained Optimization for Design Parameters\n",
    "\n",
    "## Background \n",
    "(Insert ocean engineering knowledge behind formulation of problem)\n",
    "\n",
    "## Input Vector\n",
    "$\\begin{bmatrix} \n",
    "length \\\\\n",
    "hg  \\\\\n",
    "height \\\\\n",
    "width \\\\\n",
    "hull density \\\\\n",
    "support density \\\\\n",
    "fr \\\\\n",
    "\\end{bmatrix} = \\begin{bmatrix} \n",
    "l \\\\\n",
    "hg  \\\\\n",
    "h \\\\\n",
    "w \\\\\n",
    "rho_h \\\\\n",
    "rho_w \\\\\n",
    "fr \\\\\n",
    "\\end{bmatrix}\n",
    "$"
   ]
  },
  {
   "cell_type": "code",
   "execution_count": 1,
   "metadata": {},
   "outputs": [],
   "source": [
    "import numpy as np "
   ]
  },
  {
   "cell_type": "markdown",
   "metadata": {},
   "source": [
    "## Cost function\n"
   ]
  },
  {
   "cell_type": "code",
   "execution_count": 2,
   "metadata": {},
   "outputs": [],
   "source": [
    "def hull_mass(x):\n",
    "    \"\"\"\n",
    "    Calculates the mass of the hull\n",
    "    \"\"\"\n",
    "    l = x[0]\n",
    "    hg = x[1]\n",
    "    w = x[3]\n",
    "    rho_h = x[4]\n",
    "    return .8*(l * hg * w) * rho_h\n",
    "\n",
    "def support_mass(x):\n",
    "    \"\"\"\n",
    "    Calculates the mass of the supporting structures and equipment\n",
    "    \"\"\"\n",
    "    l = x[0]\n",
    "    h = x[2]\n",
    "    w = x[3]\n",
    "    rho_w = x[5]\n",
    "    return .8*(l * h * w) * rho_w\n",
    "\n",
    "def hull_cost(x):\n",
    "    \"\"\"\n",
    "    Calculates the total cost of the hull\n",
    "    \"\"\"\n",
    "    return 2*hull_mass(x) - support_mass(x) "
   ]
  },
  {
   "cell_type": "markdown",
   "metadata": {},
   "source": [
    "## Constraints\n",
    "Source: https://docs.scipy.org/doc/scipy/tutorial/optimize.html#defining-bounds-constraints\n",
    "\n",
    "### Bound Constraints\n",
    "1.13 < l <= 1.83  \n",
    "0 <= hg <= .46  \n",
    "0 <= w <= 0.61  \n",
    "\n",
    "### Linear Constraints\n",
    "Note that the first two constraints are derived from the single bound constraint .25h_g <= fr <= .5h_g   \n",
    ".25h_g -fr <= 0   \n",
    ".5h_g - fr >= 0  \n",
    "0 <= fr + h - hg <= 0  \n",
    "\n"
   ]
  },
  {
   "cell_type": "code",
   "execution_count": 9,
   "metadata": {},
   "outputs": [
    {
     "name": "stdout",
     "output_type": "stream",
     "text": [
      "`gtol` termination condition is satisfied.\n",
      "Number of iterations: 28, function evaluations: 140, CG iterations: 37, optimality: 9.33e-09, constraint violation: 2.78e-16, execution time: 0.17 s.\n",
      "[1.47663620e+00 3.69747835e-01 2.27635965e-01 2.40644513e-07\n",
      " 1.27830823e+00 1.42111870e-01]\n"
     ]
    }
   ],
   "source": [
    "from scipy.optimize import Bounds, LinearConstraint, minimize\n",
    "bounds = Bounds([1.13,0,0,0,0,0], [1.83, .46, 6,.61, np.inf, np.inf])\n",
    "linear_constraints = LinearConstraint([[0, .25, 0, 0, 0, -1],\n",
    "    [0, .5, 0, 0, 0, -1],\n",
    "    [0,-1,1,0,0,1]], [-np.inf, 0, 0],[0,np.inf, 0])\n",
    "x0 = np.zeros(6)\n",
    "res = minimize(hull_cost, x0, method='trust-constr', bounds=bounds, constraints=linear_constraints, options={'verbose':1})\n",
    "print(res.x)\n"
   ]
  }
 ],
 "metadata": {
  "interpreter": {
   "hash": "37ef772f0ffaa6718f9d82c10fa6b09307349ff6fc1a958e39c88f72dfdfc530"
  },
  "kernelspec": {
   "display_name": "Python 3.8.8 ('base')",
   "language": "python",
   "name": "python3"
  },
  "language_info": {
   "codemirror_mode": {
    "name": "ipython",
    "version": 3
   },
   "file_extension": ".py",
   "mimetype": "text/x-python",
   "name": "python",
   "nbconvert_exporter": "python",
   "pygments_lexer": "ipython3",
   "version": "3.8.8"
  },
  "orig_nbformat": 4
 },
 "nbformat": 4,
 "nbformat_minor": 2
}
